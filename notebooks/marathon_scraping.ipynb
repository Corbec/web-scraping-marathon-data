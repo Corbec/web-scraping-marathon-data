{
 "cells": [
  {
   "cell_type": "code",
   "execution_count": 1,
   "metadata": {},
   "outputs": [],
   "source": [
    "import requests\n",
    "from bs4 import BeautifulSoup  \n",
    "import pandas as pd"
   ]
  },
  {
   "cell_type": "code",
   "execution_count": 2,
   "metadata": {},
   "outputs": [],
   "source": [
    "# Base URLs from the readme.\n",
    "urlbase_2019 = 'https://www.runrocknroll.com/Events/Nashville/The-Races/Marathon/2019-Results?gender=&agegroup=&bib=&firstname=&lastname=&page='\n",
    "urlbase_2018 = 'https://www.runrocknroll.com/Events/Nashville/The-Races/Marathon/2018-Results?gender=&agegroup=&bib=&firstname=&lastname=&page='\n",
    "urlbase_2017 = 'https://www.runrocknroll.com/Events/Nashville/The-Races/Marathon/2017-Results?gender=&agegroup=&bib=&firstname=&lastname=&page='\n",
    "urlbase_2016 = 'https://www.runrocknroll.com/Events/Nashville/The-Races/Marathon/2016-Results?gender=&agegroup=&bib=&firstname=&lastname=&page='\n",
    "urlbase_half_2019 = 'https://www.runrocknroll.com/Events/Nashville/The-Races/Half-Marathon/2019-Results?gender=&agegroup=&bib=&firstname=&lastname=&page='\n",
    "urlbase_half_2018 = 'https://www.runrocknroll.com/Events/Nashville/The-Races/Half-Marathon/2018-Results?gender=&agegroup=&bib=&firstname=&lastname=&page='\n",
    "urlbase_half_2017 = 'https://www.runrocknroll.com/Events/Nashville/The-Races/Half-Marathon/2017-Results?gender=&agegroup=&bib=&firstname=&lastname=&page='\n",
    "urlbase_half_2016 = 'https://www.runrocknroll.com/Events/Nashville/The-Races/Half-Marathon/2016-Results?gender=&agegroup=&bib=&firstname=&lastname=&page='"
   ]
  },
  {
   "cell_type": "code",
   "execution_count": 3,
   "metadata": {},
   "outputs": [],
   "source": [
    "# Page numbers given in the readme.\n",
    "pgs_2016 = 154\n",
    "pgs_2017 = 147\n",
    "pgs_2018 = 85\n",
    "pgs_2019 = 113\n",
    "\n",
    "pgs_half_2016 = 898\n",
    "pgs_half_2017 = 892\n",
    "pgs_half_2018 = 598\n",
    "pgs_half_2019 = 690"
   ]
  },
  {
   "cell_type": "code",
   "execution_count": 4,
   "metadata": {},
   "outputs": [],
   "source": [
    "def marathon(url, pages):\n",
    "    \"\"\"Returns a DataFrame of all pages of a rocknroll marathon.\"\"\"\n",
    "    final_list = []\n",
    "    df = pd.DataFrame()\n",
    "    for p in range(1, pages + 1): # pages + 1 because range stops at the last number\n",
    "        response = requests.post(url + str(p)) # Goes to URL and adds p to end of it to select page.\n",
    "        soup = BeautifulSoup(response.content, 'lxml')\n",
    "        tables = soup.find_all('table', attrs = {'class': 'table table-responsive table-bordered'})\n",
    "        result_list = pd.read_html(str(tables[0]))\n",
    "        final_list = result_list[0]\n",
    "        df = df.append(final_list, ignore_index = True)\n",
    "    return df  "
   ]
  },
  {
   "cell_type": "code",
   "execution_count": 5,
   "metadata": {},
   "outputs": [],
   "source": [
    "full_2016 = marathon(urlbase_2016, pgs_2016)"
   ]
  },
  {
   "cell_type": "code",
   "execution_count": 6,
   "metadata": {},
   "outputs": [
    {
     "data": {
      "text/plain": [
       "pandas.core.frame.DataFrame"
      ]
     },
     "execution_count": 6,
     "metadata": {},
     "output_type": "execute_result"
    }
   ],
   "source": [
    "type(full_2016)"
   ]
  },
  {
   "cell_type": "code",
   "execution_count": 7,
   "metadata": {},
   "outputs": [],
   "source": [
    "#full_2016 = pd.DataFrame(full_2016, columns = ['Overall', 'Bib', 'Name', 'Time'])"
   ]
  },
  {
   "cell_type": "code",
   "execution_count": 8,
   "metadata": {},
   "outputs": [
    {
     "data": {
      "text/html": [
       "<div>\n",
       "<style scoped>\n",
       "    .dataframe tbody tr th:only-of-type {\n",
       "        vertical-align: middle;\n",
       "    }\n",
       "\n",
       "    .dataframe tbody tr th {\n",
       "        vertical-align: top;\n",
       "    }\n",
       "\n",
       "    .dataframe thead th {\n",
       "        text-align: right;\n",
       "    }\n",
       "</style>\n",
       "<table border=\"1\" class=\"dataframe\">\n",
       "  <thead>\n",
       "    <tr style=\"text-align: right;\">\n",
       "      <th></th>\n",
       "      <th>Overall</th>\n",
       "      <th>Bib</th>\n",
       "      <th>Name</th>\n",
       "      <th>Time</th>\n",
       "    </tr>\n",
       "  </thead>\n",
       "  <tbody>\n",
       "    <tr>\n",
       "      <th>0</th>\n",
       "      <td>1</td>\n",
       "      <td>1</td>\n",
       "      <td>Scott Wietecha</td>\n",
       "      <td>02:25:42</td>\n",
       "    </tr>\n",
       "    <tr>\n",
       "      <th>1</th>\n",
       "      <td>2</td>\n",
       "      <td>3</td>\n",
       "      <td>Brian Shelton</td>\n",
       "      <td>02:34:43</td>\n",
       "    </tr>\n",
       "    <tr>\n",
       "      <th>2</th>\n",
       "      <td>3</td>\n",
       "      <td>1047</td>\n",
       "      <td>Christopher Capps</td>\n",
       "      <td>02:38:43</td>\n",
       "    </tr>\n",
       "    <tr>\n",
       "      <th>3</th>\n",
       "      <td>4</td>\n",
       "      <td>1052</td>\n",
       "      <td>Jason Grimes</td>\n",
       "      <td>02:45:06</td>\n",
       "    </tr>\n",
       "    <tr>\n",
       "      <th>4</th>\n",
       "      <td>5</td>\n",
       "      <td>1046</td>\n",
       "      <td>David Adams</td>\n",
       "      <td>02:47:28</td>\n",
       "    </tr>\n",
       "    <tr>\n",
       "      <th>5</th>\n",
       "      <td>6</td>\n",
       "      <td>1049</td>\n",
       "      <td>Matthew Meinema</td>\n",
       "      <td>02:47:36</td>\n",
       "    </tr>\n",
       "    <tr>\n",
       "      <th>6</th>\n",
       "      <td>7</td>\n",
       "      <td>1044</td>\n",
       "      <td>Seth Carley</td>\n",
       "      <td>02:48:22</td>\n",
       "    </tr>\n",
       "    <tr>\n",
       "      <th>7</th>\n",
       "      <td>8</td>\n",
       "      <td>1092</td>\n",
       "      <td>Ben Becker</td>\n",
       "      <td>02:52:19</td>\n",
       "    </tr>\n",
       "    <tr>\n",
       "      <th>8</th>\n",
       "      <td>9</td>\n",
       "      <td>1057</td>\n",
       "      <td>Jonathan Mason</td>\n",
       "      <td>02:53:38</td>\n",
       "    </tr>\n",
       "    <tr>\n",
       "      <th>9</th>\n",
       "      <td>10</td>\n",
       "      <td>1058</td>\n",
       "      <td>Matt Treat</td>\n",
       "      <td>02:53:48</td>\n",
       "    </tr>\n",
       "    <tr>\n",
       "      <th>10</th>\n",
       "      <td>11</td>\n",
       "      <td>1067</td>\n",
       "      <td>Kevin Selinsky</td>\n",
       "      <td>02:55:49</td>\n",
       "    </tr>\n",
       "    <tr>\n",
       "      <th>11</th>\n",
       "      <td>12</td>\n",
       "      <td>1069</td>\n",
       "      <td>Cole Bataille</td>\n",
       "      <td>02:56:56</td>\n",
       "    </tr>\n",
       "    <tr>\n",
       "      <th>12</th>\n",
       "      <td>13</td>\n",
       "      <td>1087</td>\n",
       "      <td>Joseph Shields</td>\n",
       "      <td>02:58:53</td>\n",
       "    </tr>\n",
       "    <tr>\n",
       "      <th>13</th>\n",
       "      <td>14</td>\n",
       "      <td>1108</td>\n",
       "      <td>Melanie Kulesz</td>\n",
       "      <td>02:59:09</td>\n",
       "    </tr>\n",
       "    <tr>\n",
       "      <th>14</th>\n",
       "      <td>15</td>\n",
       "      <td>2014</td>\n",
       "      <td>Kieran Frost</td>\n",
       "      <td>02:59:30</td>\n",
       "    </tr>\n",
       "    <tr>\n",
       "      <th>15</th>\n",
       "      <td>16</td>\n",
       "      <td>1155</td>\n",
       "      <td>Brian Wiest</td>\n",
       "      <td>02:59:51</td>\n",
       "    </tr>\n",
       "    <tr>\n",
       "      <th>16</th>\n",
       "      <td>17</td>\n",
       "      <td>1048</td>\n",
       "      <td>Braden Robbins</td>\n",
       "      <td>03:00:26</td>\n",
       "    </tr>\n",
       "    <tr>\n",
       "      <th>17</th>\n",
       "      <td>18</td>\n",
       "      <td>1080</td>\n",
       "      <td>Bo Brewer</td>\n",
       "      <td>03:01:09</td>\n",
       "    </tr>\n",
       "    <tr>\n",
       "      <th>18</th>\n",
       "      <td>19</td>\n",
       "      <td>27408</td>\n",
       "      <td>Bryan Larison</td>\n",
       "      <td>03:01:23</td>\n",
       "    </tr>\n",
       "    <tr>\n",
       "      <th>19</th>\n",
       "      <td>20</td>\n",
       "      <td>101</td>\n",
       "      <td>Megan Hovis</td>\n",
       "      <td>03:04:49</td>\n",
       "    </tr>\n",
       "    <tr>\n",
       "      <th>20</th>\n",
       "      <td>21</td>\n",
       "      <td>2003</td>\n",
       "      <td>Ryan Ladd</td>\n",
       "      <td>03:05:51</td>\n",
       "    </tr>\n",
       "    <tr>\n",
       "      <th>21</th>\n",
       "      <td>22</td>\n",
       "      <td>1081</td>\n",
       "      <td>Mark Temme</td>\n",
       "      <td>03:06:21</td>\n",
       "    </tr>\n",
       "    <tr>\n",
       "      <th>22</th>\n",
       "      <td>23</td>\n",
       "      <td>1137</td>\n",
       "      <td>Alexandre Jamar</td>\n",
       "      <td>03:06:22</td>\n",
       "    </tr>\n",
       "    <tr>\n",
       "      <th>23</th>\n",
       "      <td>24</td>\n",
       "      <td>1142</td>\n",
       "      <td>Shandra Moore</td>\n",
       "      <td>03:08:32</td>\n",
       "    </tr>\n",
       "    <tr>\n",
       "      <th>24</th>\n",
       "      <td>25</td>\n",
       "      <td>1085</td>\n",
       "      <td>Thomas Von Der Ohe</td>\n",
       "      <td>03:08:39</td>\n",
       "    </tr>\n",
       "    <tr>\n",
       "      <th>25</th>\n",
       "      <td>26</td>\n",
       "      <td>1068</td>\n",
       "      <td>Christopher Chidley</td>\n",
       "      <td>03:08:53</td>\n",
       "    </tr>\n",
       "  </tbody>\n",
       "</table>\n",
       "</div>"
      ],
      "text/plain": [
       "    Overall    Bib                 Name      Time\n",
       "0         1      1       Scott Wietecha  02:25:42\n",
       "1         2      3        Brian Shelton  02:34:43\n",
       "2         3   1047    Christopher Capps  02:38:43\n",
       "3         4   1052         Jason Grimes  02:45:06\n",
       "4         5   1046          David Adams  02:47:28\n",
       "5         6   1049      Matthew Meinema  02:47:36\n",
       "6         7   1044          Seth Carley  02:48:22\n",
       "7         8   1092           Ben Becker  02:52:19\n",
       "8         9   1057       Jonathan Mason  02:53:38\n",
       "9        10   1058           Matt Treat  02:53:48\n",
       "10       11   1067       Kevin Selinsky  02:55:49\n",
       "11       12   1069        Cole Bataille  02:56:56\n",
       "12       13   1087       Joseph Shields  02:58:53\n",
       "13       14   1108       Melanie Kulesz  02:59:09\n",
       "14       15   2014         Kieran Frost  02:59:30\n",
       "15       16   1155          Brian Wiest  02:59:51\n",
       "16       17   1048       Braden Robbins  03:00:26\n",
       "17       18   1080            Bo Brewer  03:01:09\n",
       "18       19  27408        Bryan Larison  03:01:23\n",
       "19       20    101          Megan Hovis  03:04:49\n",
       "20       21   2003            Ryan Ladd  03:05:51\n",
       "21       22   1081           Mark Temme  03:06:21\n",
       "22       23   1137      Alexandre Jamar  03:06:22\n",
       "23       24   1142        Shandra Moore  03:08:32\n",
       "24       25   1085   Thomas Von Der Ohe  03:08:39\n",
       "25       26   1068  Christopher Chidley  03:08:53"
      ]
     },
     "execution_count": 8,
     "metadata": {},
     "output_type": "execute_result"
    }
   ],
   "source": [
    "full_2016.head(26)"
   ]
  },
  {
   "cell_type": "code",
   "execution_count": 9,
   "metadata": {},
   "outputs": [
    {
     "name": "stdout",
     "output_type": "stream",
     "text": [
      "<class 'pandas.core.frame.DataFrame'>\n",
      "RangeIndex: 3842 entries, 0 to 3841\n",
      "Data columns (total 4 columns):\n",
      " #   Column   Non-Null Count  Dtype \n",
      "---  ------   --------------  ----- \n",
      " 0   Overall  3842 non-null   int64 \n",
      " 1   Bib      3842 non-null   int64 \n",
      " 2   Name     3842 non-null   object\n",
      " 3   Time     3842 non-null   object\n",
      "dtypes: int64(2), object(2)\n",
      "memory usage: 120.2+ KB\n"
     ]
    }
   ],
   "source": [
    "full_2016.info()"
   ]
  },
  {
   "cell_type": "code",
   "execution_count": 31,
   "metadata": {},
   "outputs": [],
   "source": [
    "full_2016.to_csv('full_2016.csv', index = False)"
   ]
  },
  {
   "cell_type": "code",
   "execution_count": 10,
   "metadata": {},
   "outputs": [],
   "source": [
    "full_2017 = marathon(urlbase_2017, pgs_2017)"
   ]
  },
  {
   "cell_type": "code",
   "execution_count": 11,
   "metadata": {},
   "outputs": [
    {
     "data": {
      "text/html": [
       "<div>\n",
       "<style scoped>\n",
       "    .dataframe tbody tr th:only-of-type {\n",
       "        vertical-align: middle;\n",
       "    }\n",
       "\n",
       "    .dataframe tbody tr th {\n",
       "        vertical-align: top;\n",
       "    }\n",
       "\n",
       "    .dataframe thead th {\n",
       "        text-align: right;\n",
       "    }\n",
       "</style>\n",
       "<table border=\"1\" class=\"dataframe\">\n",
       "  <thead>\n",
       "    <tr style=\"text-align: right;\">\n",
       "      <th></th>\n",
       "      <th>Overall</th>\n",
       "      <th>Bib</th>\n",
       "      <th>Name</th>\n",
       "      <th>Time</th>\n",
       "    </tr>\n",
       "  </thead>\n",
       "  <tbody>\n",
       "    <tr>\n",
       "      <th>0</th>\n",
       "      <td>1</td>\n",
       "      <td>1</td>\n",
       "      <td>Scott Wietecha</td>\n",
       "      <td>02:40:25</td>\n",
       "    </tr>\n",
       "    <tr>\n",
       "      <th>1</th>\n",
       "      <td>2</td>\n",
       "      <td>1145</td>\n",
       "      <td>Ryan Regnier</td>\n",
       "      <td>02:56:28</td>\n",
       "    </tr>\n",
       "    <tr>\n",
       "      <th>2</th>\n",
       "      <td>3</td>\n",
       "      <td>1147</td>\n",
       "      <td>Daniel Everett</td>\n",
       "      <td>03:00:55</td>\n",
       "    </tr>\n",
       "    <tr>\n",
       "      <th>3</th>\n",
       "      <td>4</td>\n",
       "      <td>1029</td>\n",
       "      <td>Khris Vickroy</td>\n",
       "      <td>03:04:47</td>\n",
       "    </tr>\n",
       "    <tr>\n",
       "      <th>4</th>\n",
       "      <td>5</td>\n",
       "      <td>1119</td>\n",
       "      <td>Marcus Dilallo</td>\n",
       "      <td>03:04:53</td>\n",
       "    </tr>\n",
       "  </tbody>\n",
       "</table>\n",
       "</div>"
      ],
      "text/plain": [
       "   Overall   Bib            Name      Time\n",
       "0        1     1  Scott Wietecha  02:40:25\n",
       "1        2  1145    Ryan Regnier  02:56:28\n",
       "2        3  1147  Daniel Everett  03:00:55\n",
       "3        4  1029   Khris Vickroy  03:04:47\n",
       "4        5  1119  Marcus Dilallo  03:04:53"
      ]
     },
     "execution_count": 11,
     "metadata": {},
     "output_type": "execute_result"
    }
   ],
   "source": [
    "full_2017.head()"
   ]
  },
  {
   "cell_type": "code",
   "execution_count": 12,
   "metadata": {},
   "outputs": [
    {
     "name": "stdout",
     "output_type": "stream",
     "text": [
      "<class 'pandas.core.frame.DataFrame'>\n",
      "RangeIndex: 3651 entries, 0 to 3650\n",
      "Data columns (total 4 columns):\n",
      " #   Column   Non-Null Count  Dtype \n",
      "---  ------   --------------  ----- \n",
      " 0   Overall  3651 non-null   int64 \n",
      " 1   Bib      3651 non-null   int64 \n",
      " 2   Name     3651 non-null   object\n",
      " 3   Time     3651 non-null   object\n",
      "dtypes: int64(2), object(2)\n",
      "memory usage: 114.2+ KB\n"
     ]
    }
   ],
   "source": [
    "full_2017.info()"
   ]
  },
  {
   "cell_type": "code",
   "execution_count": 32,
   "metadata": {},
   "outputs": [],
   "source": [
    "full_2017.to_csv('full_2017.csv', index = False)"
   ]
  },
  {
   "cell_type": "code",
   "execution_count": 13,
   "metadata": {},
   "outputs": [],
   "source": [
    "full_2018 = marathon(urlbase_2018, pgs_2018)"
   ]
  },
  {
   "cell_type": "code",
   "execution_count": 14,
   "metadata": {},
   "outputs": [
    {
     "name": "stdout",
     "output_type": "stream",
     "text": [
      "<class 'pandas.core.frame.DataFrame'>\n",
      "RangeIndex: 2115 entries, 0 to 2114\n",
      "Data columns (total 4 columns):\n",
      " #   Column   Non-Null Count  Dtype \n",
      "---  ------   --------------  ----- \n",
      " 0   Overall  2115 non-null   int64 \n",
      " 1   Bib      2115 non-null   int64 \n",
      " 2   Name     2115 non-null   object\n",
      " 3   Time     2115 non-null   object\n",
      "dtypes: int64(2), object(2)\n",
      "memory usage: 66.2+ KB\n"
     ]
    }
   ],
   "source": [
    "full_2018.info()"
   ]
  },
  {
   "cell_type": "markdown",
   "metadata": {},
   "source": [
    "2018 marathon had 1000 less runners."
   ]
  },
  {
   "cell_type": "code",
   "execution_count": 33,
   "metadata": {},
   "outputs": [],
   "source": [
    "full_2018.to_csv('full_2018.csv', index = False)"
   ]
  },
  {
   "cell_type": "code",
   "execution_count": 15,
   "metadata": {},
   "outputs": [],
   "source": [
    "full_2019 = marathon(urlbase_2019, pgs_2019)"
   ]
  },
  {
   "cell_type": "code",
   "execution_count": 16,
   "metadata": {},
   "outputs": [
    {
     "name": "stdout",
     "output_type": "stream",
     "text": [
      "<class 'pandas.core.frame.DataFrame'>\n",
      "RangeIndex: 2811 entries, 0 to 2810\n",
      "Data columns (total 4 columns):\n",
      " #   Column   Non-Null Count  Dtype \n",
      "---  ------   --------------  ----- \n",
      " 0   Overall  2811 non-null   int64 \n",
      " 1   Bib      2811 non-null   int64 \n",
      " 2   Name     2811 non-null   object\n",
      " 3   Time     2811 non-null   object\n",
      "dtypes: int64(2), object(2)\n",
      "memory usage: 88.0+ KB\n"
     ]
    }
   ],
   "source": [
    "full_2019.info()"
   ]
  },
  {
   "cell_type": "code",
   "execution_count": 34,
   "metadata": {},
   "outputs": [],
   "source": [
    "full_2019.to_csv('full_2019.csv', index = False)"
   ]
  },
  {
   "cell_type": "code",
   "execution_count": 18,
   "metadata": {},
   "outputs": [],
   "source": [
    "half_2016 = marathon(urlbase_half_2016, pgs_half_2016)"
   ]
  },
  {
   "cell_type": "code",
   "execution_count": 19,
   "metadata": {},
   "outputs": [
    {
     "name": "stdout",
     "output_type": "stream",
     "text": [
      "<class 'pandas.core.frame.DataFrame'>\n",
      "RangeIndex: 22429 entries, 0 to 22428\n",
      "Data columns (total 4 columns):\n",
      " #   Column   Non-Null Count  Dtype \n",
      "---  ------   --------------  ----- \n",
      " 0   Overall  22429 non-null  int64 \n",
      " 1   Bib      22429 non-null  int64 \n",
      " 2   Name     22429 non-null  object\n",
      " 3   Time     22429 non-null  object\n",
      "dtypes: int64(2), object(2)\n",
      "memory usage: 701.0+ KB\n"
     ]
    }
   ],
   "source": [
    "half_2016.info()"
   ]
  },
  {
   "cell_type": "code",
   "execution_count": 35,
   "metadata": {},
   "outputs": [],
   "source": [
    "half_2016.to_csv('half_2016.csv', index = False)"
   ]
  },
  {
   "cell_type": "code",
   "execution_count": 20,
   "metadata": {},
   "outputs": [],
   "source": [
    "half_2017 = marathon(urlbase_half_2017, pgs_half_2017)"
   ]
  },
  {
   "cell_type": "code",
   "execution_count": 21,
   "metadata": {},
   "outputs": [
    {
     "name": "stdout",
     "output_type": "stream",
     "text": [
      "<class 'pandas.core.frame.DataFrame'>\n",
      "RangeIndex: 22292 entries, 0 to 22291\n",
      "Data columns (total 4 columns):\n",
      " #   Column   Non-Null Count  Dtype \n",
      "---  ------   --------------  ----- \n",
      " 0   Overall  22292 non-null  int64 \n",
      " 1   Bib      22292 non-null  int64 \n",
      " 2   Name     22292 non-null  object\n",
      " 3   Time     22292 non-null  object\n",
      "dtypes: int64(2), object(2)\n",
      "memory usage: 696.8+ KB\n"
     ]
    }
   ],
   "source": [
    "half_2017.info()"
   ]
  },
  {
   "cell_type": "code",
   "execution_count": 36,
   "metadata": {},
   "outputs": [],
   "source": [
    "half_2017.to_csv('half_2017.csv', index = False)"
   ]
  },
  {
   "cell_type": "code",
   "execution_count": 22,
   "metadata": {},
   "outputs": [],
   "source": [
    "half_2018 = marathon(urlbase_half_2018, pgs_half_2018)"
   ]
  },
  {
   "cell_type": "code",
   "execution_count": 23,
   "metadata": {},
   "outputs": [
    {
     "name": "stdout",
     "output_type": "stream",
     "text": [
      "<class 'pandas.core.frame.DataFrame'>\n",
      "RangeIndex: 14940 entries, 0 to 14939\n",
      "Data columns (total 4 columns):\n",
      " #   Column   Non-Null Count  Dtype \n",
      "---  ------   --------------  ----- \n",
      " 0   Overall  14940 non-null  int64 \n",
      " 1   Bib      14940 non-null  int64 \n",
      " 2   Name     14940 non-null  object\n",
      " 3   Time     14940 non-null  object\n",
      "dtypes: int64(2), object(2)\n",
      "memory usage: 467.0+ KB\n"
     ]
    }
   ],
   "source": [
    "half_2018.info()"
   ]
  },
  {
   "cell_type": "code",
   "execution_count": 37,
   "metadata": {},
   "outputs": [],
   "source": [
    "half_2018.to_csv('half_2018.csv', index = False)"
   ]
  },
  {
   "cell_type": "markdown",
   "metadata": {},
   "source": [
    "2018 Half Marathon had about 7000 less runners when compared to 2016 and 2017."
   ]
  },
  {
   "cell_type": "code",
   "execution_count": 24,
   "metadata": {},
   "outputs": [],
   "source": [
    "half_2019 = marathon(urlbase_half_2019, pgs_half_2019)"
   ]
  },
  {
   "cell_type": "code",
   "execution_count": 25,
   "metadata": {},
   "outputs": [
    {
     "name": "stdout",
     "output_type": "stream",
     "text": [
      "<class 'pandas.core.frame.DataFrame'>\n",
      "RangeIndex: 17236 entries, 0 to 17235\n",
      "Data columns (total 4 columns):\n",
      " #   Column   Non-Null Count  Dtype \n",
      "---  ------   --------------  ----- \n",
      " 0   Overall  17236 non-null  int64 \n",
      " 1   Bib      17236 non-null  int64 \n",
      " 2   Name     17236 non-null  object\n",
      " 3   Time     17236 non-null  object\n",
      "dtypes: int64(2), object(2)\n",
      "memory usage: 538.8+ KB\n"
     ]
    }
   ],
   "source": [
    "half_2019.info()"
   ]
  },
  {
   "cell_type": "code",
   "execution_count": 38,
   "metadata": {},
   "outputs": [],
   "source": [
    "half_2019.to_csv('half_2019.csv', index = False)"
   ]
  },
  {
   "cell_type": "code",
   "execution_count": null,
   "metadata": {},
   "outputs": [],
   "source": []
  }
 ],
 "metadata": {
  "kernelspec": {
   "display_name": "Python 3",
   "language": "python",
   "name": "python3"
  },
  "language_info": {
   "codemirror_mode": {
    "name": "ipython",
    "version": 3
   },
   "file_extension": ".py",
   "mimetype": "text/x-python",
   "name": "python",
   "nbconvert_exporter": "python",
   "pygments_lexer": "ipython3",
   "version": "3.8.3"
  }
 },
 "nbformat": 4,
 "nbformat_minor": 4
}
