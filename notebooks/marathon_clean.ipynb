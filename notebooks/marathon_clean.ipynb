{
 "cells": [
  {
   "cell_type": "markdown",
   "metadata": {},
   "source": [
    "Clean notebook for presentation.\n",
    "Created by Chris Mulvey on 23 November 2020."
   ]
  },
  {
   "cell_type": "code",
   "execution_count": 1,
   "metadata": {},
   "outputs": [],
   "source": [
    "import pandas as pd\n",
    "import numpy as np\n",
    "import matplotlib.pyplot as plt\n",
    "import seaborn as sns\n",
    "\n",
    "%matplotlib inline"
   ]
  },
  {
   "cell_type": "code",
   "execution_count": 2,
   "metadata": {},
   "outputs": [],
   "source": [
    "full_2016 = pd.read_csv('../data/full_2016.csv')\n",
    "full_2017 = pd.read_csv('../data/full_2017.csv')\n",
    "full_2018 = pd.read_csv('../data/full_2018.csv')\n",
    "full_2019 = pd.read_csv('../data/full_2019.csv')\n",
    "half_2016 = pd.read_csv('../data/half_2016.csv')\n",
    "half_2017 = pd.read_csv('../data/half_2017.csv')\n",
    "half_2018 = pd.read_csv('../data/half_2018.csv')\n",
    "half_2019 = pd.read_csv('../data/half_2019.csv')"
   ]
  },
  {
   "cell_type": "code",
   "execution_count": 3,
   "metadata": {},
   "outputs": [
    {
     "data": {
      "text/html": [
       "<div>\n",
       "<style scoped>\n",
       "    .dataframe tbody tr th:only-of-type {\n",
       "        vertical-align: middle;\n",
       "    }\n",
       "\n",
       "    .dataframe tbody tr th {\n",
       "        vertical-align: top;\n",
       "    }\n",
       "\n",
       "    .dataframe thead th {\n",
       "        text-align: right;\n",
       "    }\n",
       "</style>\n",
       "<table border=\"1\" class=\"dataframe\">\n",
       "  <thead>\n",
       "    <tr style=\"text-align: right;\">\n",
       "      <th></th>\n",
       "      <th>Overall</th>\n",
       "      <th>Bib</th>\n",
       "      <th>Name</th>\n",
       "      <th>Time</th>\n",
       "    </tr>\n",
       "  </thead>\n",
       "  <tbody>\n",
       "    <tr>\n",
       "      <th>0</th>\n",
       "      <td>1</td>\n",
       "      <td>1</td>\n",
       "      <td>Scott Wietecha</td>\n",
       "      <td>02:25:42</td>\n",
       "    </tr>\n",
       "    <tr>\n",
       "      <th>1</th>\n",
       "      <td>2</td>\n",
       "      <td>3</td>\n",
       "      <td>Brian Shelton</td>\n",
       "      <td>02:34:43</td>\n",
       "    </tr>\n",
       "    <tr>\n",
       "      <th>2</th>\n",
       "      <td>3</td>\n",
       "      <td>1047</td>\n",
       "      <td>Christopher Capps</td>\n",
       "      <td>02:38:43</td>\n",
       "    </tr>\n",
       "    <tr>\n",
       "      <th>3</th>\n",
       "      <td>4</td>\n",
       "      <td>1052</td>\n",
       "      <td>Jason Grimes</td>\n",
       "      <td>02:45:06</td>\n",
       "    </tr>\n",
       "    <tr>\n",
       "      <th>4</th>\n",
       "      <td>5</td>\n",
       "      <td>1046</td>\n",
       "      <td>David Adams</td>\n",
       "      <td>02:47:28</td>\n",
       "    </tr>\n",
       "  </tbody>\n",
       "</table>\n",
       "</div>"
      ],
      "text/plain": [
       "   Overall   Bib               Name      Time\n",
       "0        1     1     Scott Wietecha  02:25:42\n",
       "1        2     3      Brian Shelton  02:34:43\n",
       "2        3  1047  Christopher Capps  02:38:43\n",
       "3        4  1052       Jason Grimes  02:45:06\n",
       "4        5  1046        David Adams  02:47:28"
      ]
     },
     "execution_count": 3,
     "metadata": {},
     "output_type": "execute_result"
    }
   ],
   "source": [
    "full_2016.head()"
   ]
  },
  {
   "cell_type": "code",
   "execution_count": 4,
   "metadata": {},
   "outputs": [
    {
     "name": "stdout",
     "output_type": "stream",
     "text": [
      "<class 'pandas.core.frame.DataFrame'>\n",
      "RangeIndex: 3842 entries, 0 to 3841\n",
      "Data columns (total 4 columns):\n",
      " #   Column   Non-Null Count  Dtype \n",
      "---  ------   --------------  ----- \n",
      " 0   Overall  3842 non-null   int64 \n",
      " 1   Bib      3842 non-null   int64 \n",
      " 2   Name     3842 non-null   object\n",
      " 3   Time     3842 non-null   object\n",
      "dtypes: int64(2), object(2)\n",
      "memory usage: 120.2+ KB\n"
     ]
    }
   ],
   "source": [
    "full_2016.info()"
   ]
  },
  {
   "cell_type": "markdown",
   "metadata": {},
   "source": [
    "Need to convert the Time column from an object to a time format to make it usable for comparison."
   ]
  },
  {
   "cell_type": "code",
   "execution_count": 5,
   "metadata": {},
   "outputs": [],
   "source": [
    "def convert_time(df, column):\n",
    "    \"\"\"Converts time column in dataframe from object to timedelta64[ns] to keep HH:MM:SS format \n",
    "    Input is DataFrame name, column name in str format\"\"\"\n",
    "    df[column] = (pd.to_datetime(df[column], format = '%H:%M:%S') - \n",
    "                     pd.to_datetime(df[column], format = '%H:%M:%S').dt.normalize())\n",
    "#.dt.normalize sets the time portion of the datetime to midnight. Subtracting the normalized datetime leaves only\n",
    "# hours, minutes, and seconds."
   ]
  },
  {
   "cell_type": "code",
   "execution_count": 6,
   "metadata": {},
   "outputs": [],
   "source": [
    "convert_time(full_2016, 'Time')"
   ]
  },
  {
   "cell_type": "code",
   "execution_count": 7,
   "metadata": {},
   "outputs": [
    {
     "name": "stdout",
     "output_type": "stream",
     "text": [
      "<class 'pandas.core.frame.DataFrame'>\n",
      "RangeIndex: 3842 entries, 0 to 3841\n",
      "Data columns (total 4 columns):\n",
      " #   Column   Non-Null Count  Dtype          \n",
      "---  ------   --------------  -----          \n",
      " 0   Overall  3842 non-null   int64          \n",
      " 1   Bib      3842 non-null   int64          \n",
      " 2   Name     3842 non-null   object         \n",
      " 3   Time     3842 non-null   timedelta64[ns]\n",
      "dtypes: int64(2), object(1), timedelta64[ns](1)\n",
      "memory usage: 120.2+ KB\n"
     ]
    }
   ],
   "source": [
    "full_2016.info()"
   ]
  },
  {
   "cell_type": "code",
   "execution_count": 8,
   "metadata": {},
   "outputs": [],
   "source": [
    "convert_time(full_2017, 'Time')\n",
    "convert_time(full_2018, 'Time')\n",
    "convert_time(full_2019, 'Time')\n",
    "convert_time(half_2016, 'Time')\n",
    "convert_time(half_2017, 'Time')\n",
    "convert_time(half_2018, 'Time')\n",
    "convert_time(half_2019, 'Time')"
   ]
  },
  {
   "cell_type": "markdown",
   "metadata": {},
   "source": [
    "Adding a column to each DataFrame to capture year."
   ]
  },
  {
   "cell_type": "code",
   "execution_count": 9,
   "metadata": {},
   "outputs": [],
   "source": [
    "full_2016['Year'] = 2016\n",
    "full_2017['Year'] = 2017\n",
    "full_2018['Year'] = 2018\n",
    "full_2019['Year'] = 2019"
   ]
  },
  {
   "cell_type": "code",
   "execution_count": 10,
   "metadata": {},
   "outputs": [
    {
     "data": {
      "text/html": [
       "<div>\n",
       "<style scoped>\n",
       "    .dataframe tbody tr th:only-of-type {\n",
       "        vertical-align: middle;\n",
       "    }\n",
       "\n",
       "    .dataframe tbody tr th {\n",
       "        vertical-align: top;\n",
       "    }\n",
       "\n",
       "    .dataframe thead th {\n",
       "        text-align: right;\n",
       "    }\n",
       "</style>\n",
       "<table border=\"1\" class=\"dataframe\">\n",
       "  <thead>\n",
       "    <tr style=\"text-align: right;\">\n",
       "      <th></th>\n",
       "      <th>Overall</th>\n",
       "      <th>Bib</th>\n",
       "      <th>Name</th>\n",
       "      <th>Time</th>\n",
       "      <th>Year</th>\n",
       "    </tr>\n",
       "  </thead>\n",
       "  <tbody>\n",
       "    <tr>\n",
       "      <th>0</th>\n",
       "      <td>1</td>\n",
       "      <td>1</td>\n",
       "      <td>Scott Wietecha</td>\n",
       "      <td>02:25:42</td>\n",
       "      <td>2016</td>\n",
       "    </tr>\n",
       "    <tr>\n",
       "      <th>1</th>\n",
       "      <td>2</td>\n",
       "      <td>3</td>\n",
       "      <td>Brian Shelton</td>\n",
       "      <td>02:34:43</td>\n",
       "      <td>2016</td>\n",
       "    </tr>\n",
       "    <tr>\n",
       "      <th>2</th>\n",
       "      <td>3</td>\n",
       "      <td>1047</td>\n",
       "      <td>Christopher Capps</td>\n",
       "      <td>02:38:43</td>\n",
       "      <td>2016</td>\n",
       "    </tr>\n",
       "    <tr>\n",
       "      <th>3</th>\n",
       "      <td>4</td>\n",
       "      <td>1052</td>\n",
       "      <td>Jason Grimes</td>\n",
       "      <td>02:45:06</td>\n",
       "      <td>2016</td>\n",
       "    </tr>\n",
       "    <tr>\n",
       "      <th>4</th>\n",
       "      <td>5</td>\n",
       "      <td>1046</td>\n",
       "      <td>David Adams</td>\n",
       "      <td>02:47:28</td>\n",
       "      <td>2016</td>\n",
       "    </tr>\n",
       "  </tbody>\n",
       "</table>\n",
       "</div>"
      ],
      "text/plain": [
       "   Overall   Bib               Name     Time  Year\n",
       "0        1     1     Scott Wietecha 02:25:42  2016\n",
       "1        2     3      Brian Shelton 02:34:43  2016\n",
       "2        3  1047  Christopher Capps 02:38:43  2016\n",
       "3        4  1052       Jason Grimes 02:45:06  2016\n",
       "4        5  1046        David Adams 02:47:28  2016"
      ]
     },
     "execution_count": 10,
     "metadata": {},
     "output_type": "execute_result"
    }
   ],
   "source": [
    "full_2016.head()"
   ]
  },
  {
   "cell_type": "markdown",
   "metadata": {},
   "source": [
    "One thing I noticed is that there is a drastic difference in the number of registered runners between 2017 and 2018, with 2018 having 1,536 less runners in the full marathon. That's a 42% reduction in runners. "
   ]
  },
  {
   "cell_type": "code",
   "execution_count": 11,
   "metadata": {},
   "outputs": [
    {
     "name": "stdout",
     "output_type": "stream",
     "text": [
      "<class 'pandas.core.frame.DataFrame'>\n",
      "RangeIndex: 3651 entries, 0 to 3650\n",
      "Data columns (total 5 columns):\n",
      " #   Column   Non-Null Count  Dtype          \n",
      "---  ------   --------------  -----          \n",
      " 0   Overall  3651 non-null   int64          \n",
      " 1   Bib      3651 non-null   int64          \n",
      " 2   Name     3651 non-null   object         \n",
      " 3   Time     3651 non-null   timedelta64[ns]\n",
      " 4   Year     3651 non-null   int64          \n",
      "dtypes: int64(3), object(1), timedelta64[ns](1)\n",
      "memory usage: 142.7+ KB\n",
      "<class 'pandas.core.frame.DataFrame'>\n",
      "RangeIndex: 2115 entries, 0 to 2114\n",
      "Data columns (total 5 columns):\n",
      " #   Column   Non-Null Count  Dtype          \n",
      "---  ------   --------------  -----          \n",
      " 0   Overall  2115 non-null   int64          \n",
      " 1   Bib      2115 non-null   int64          \n",
      " 2   Name     2115 non-null   object         \n",
      " 3   Time     2115 non-null   timedelta64[ns]\n",
      " 4   Year     2115 non-null   int64          \n",
      "dtypes: int64(3), object(1), timedelta64[ns](1)\n",
      "memory usage: 82.7+ KB\n"
     ]
    }
   ],
   "source": [
    "full_2017.info()\n",
    "full_2018.info()"
   ]
  },
  {
   "cell_type": "markdown",
   "metadata": {},
   "source": [
    "The 2018 half marathon had a significant drop in runners as well, with 7,352 less runners in 2018. That is a 32% decrease."
   ]
  },
  {
   "cell_type": "code",
   "execution_count": 12,
   "metadata": {},
   "outputs": [
    {
     "name": "stdout",
     "output_type": "stream",
     "text": [
      "<class 'pandas.core.frame.DataFrame'>\n",
      "RangeIndex: 22292 entries, 0 to 22291\n",
      "Data columns (total 4 columns):\n",
      " #   Column   Non-Null Count  Dtype          \n",
      "---  ------   --------------  -----          \n",
      " 0   Overall  22292 non-null  int64          \n",
      " 1   Bib      22292 non-null  int64          \n",
      " 2   Name     22292 non-null  object         \n",
      " 3   Time     22292 non-null  timedelta64[ns]\n",
      "dtypes: int64(2), object(1), timedelta64[ns](1)\n",
      "memory usage: 696.8+ KB\n",
      "<class 'pandas.core.frame.DataFrame'>\n",
      "RangeIndex: 14940 entries, 0 to 14939\n",
      "Data columns (total 4 columns):\n",
      " #   Column   Non-Null Count  Dtype          \n",
      "---  ------   --------------  -----          \n",
      " 0   Overall  14940 non-null  int64          \n",
      " 1   Bib      14940 non-null  int64          \n",
      " 2   Name     14940 non-null  object         \n",
      " 3   Time     14940 non-null  timedelta64[ns]\n",
      "dtypes: int64(2), object(1), timedelta64[ns](1)\n",
      "memory usage: 467.0+ KB\n"
     ]
    }
   ],
   "source": [
    "half_2017.info()\n",
    "half_2018.info()"
   ]
  },
  {
   "cell_type": "markdown",
   "metadata": {},
   "source": [
    "Removing runners who didn't finish (have Overall of 99999)."
   ]
  },
  {
   "cell_type": "code",
   "execution_count": 13,
   "metadata": {},
   "outputs": [],
   "source": [
    "full_2016_clean = full_2016[full_2016['Overall'] < 99999]\n",
    "full_2017_clean = full_2017[full_2017['Overall'] < 99999]\n",
    "full_2018_clean = full_2018[full_2018['Overall'] < 99999]\n",
    "full_2019_clean = full_2019[full_2019['Overall'] < 99999]"
   ]
  },
  {
   "cell_type": "code",
   "execution_count": 14,
   "metadata": {},
   "outputs": [
    {
     "data": {
      "text/html": [
       "<div>\n",
       "<style scoped>\n",
       "    .dataframe tbody tr th:only-of-type {\n",
       "        vertical-align: middle;\n",
       "    }\n",
       "\n",
       "    .dataframe tbody tr th {\n",
       "        vertical-align: top;\n",
       "    }\n",
       "\n",
       "    .dataframe thead th {\n",
       "        text-align: right;\n",
       "    }\n",
       "</style>\n",
       "<table border=\"1\" class=\"dataframe\">\n",
       "  <thead>\n",
       "    <tr style=\"text-align: right;\">\n",
       "      <th></th>\n",
       "      <th>Overall</th>\n",
       "      <th>Bib</th>\n",
       "      <th>Name</th>\n",
       "      <th>Time</th>\n",
       "      <th>Year</th>\n",
       "    </tr>\n",
       "  </thead>\n",
       "  <tbody>\n",
       "    <tr>\n",
       "      <th>0</th>\n",
       "      <td>1</td>\n",
       "      <td>1</td>\n",
       "      <td>Scott Wietecha</td>\n",
       "      <td>02:25:42</td>\n",
       "      <td>2016</td>\n",
       "    </tr>\n",
       "    <tr>\n",
       "      <th>1</th>\n",
       "      <td>2</td>\n",
       "      <td>3</td>\n",
       "      <td>Brian Shelton</td>\n",
       "      <td>02:34:43</td>\n",
       "      <td>2016</td>\n",
       "    </tr>\n",
       "    <tr>\n",
       "      <th>2</th>\n",
       "      <td>3</td>\n",
       "      <td>1047</td>\n",
       "      <td>Christopher Capps</td>\n",
       "      <td>02:38:43</td>\n",
       "      <td>2016</td>\n",
       "    </tr>\n",
       "    <tr>\n",
       "      <th>3</th>\n",
       "      <td>4</td>\n",
       "      <td>1052</td>\n",
       "      <td>Jason Grimes</td>\n",
       "      <td>02:45:06</td>\n",
       "      <td>2016</td>\n",
       "    </tr>\n",
       "    <tr>\n",
       "      <th>4</th>\n",
       "      <td>5</td>\n",
       "      <td>1046</td>\n",
       "      <td>David Adams</td>\n",
       "      <td>02:47:28</td>\n",
       "      <td>2016</td>\n",
       "    </tr>\n",
       "    <tr>\n",
       "      <th>...</th>\n",
       "      <td>...</td>\n",
       "      <td>...</td>\n",
       "      <td>...</td>\n",
       "      <td>...</td>\n",
       "      <td>...</td>\n",
       "    </tr>\n",
       "    <tr>\n",
       "      <th>2947</th>\n",
       "      <td>2957</td>\n",
       "      <td>435</td>\n",
       "      <td>Jane Tao</td>\n",
       "      <td>06:51:54</td>\n",
       "      <td>2016</td>\n",
       "    </tr>\n",
       "    <tr>\n",
       "      <th>2948</th>\n",
       "      <td>2958</td>\n",
       "      <td>27210</td>\n",
       "      <td>Kate Mishkin</td>\n",
       "      <td>06:53:03</td>\n",
       "      <td>2016</td>\n",
       "    </tr>\n",
       "    <tr>\n",
       "      <th>2949</th>\n",
       "      <td>2959</td>\n",
       "      <td>27443</td>\n",
       "      <td>Gabrielle Castro</td>\n",
       "      <td>06:53:35</td>\n",
       "      <td>2016</td>\n",
       "    </tr>\n",
       "    <tr>\n",
       "      <th>2950</th>\n",
       "      <td>2960</td>\n",
       "      <td>13085</td>\n",
       "      <td>Valerie Bailey</td>\n",
       "      <td>06:53:58</td>\n",
       "      <td>2016</td>\n",
       "    </tr>\n",
       "    <tr>\n",
       "      <th>2951</th>\n",
       "      <td>2961</td>\n",
       "      <td>442</td>\n",
       "      <td>Mike Emerick</td>\n",
       "      <td>07:00:00</td>\n",
       "      <td>2016</td>\n",
       "    </tr>\n",
       "  </tbody>\n",
       "</table>\n",
       "<p>2952 rows × 5 columns</p>\n",
       "</div>"
      ],
      "text/plain": [
       "      Overall    Bib               Name     Time  Year\n",
       "0           1      1     Scott Wietecha 02:25:42  2016\n",
       "1           2      3      Brian Shelton 02:34:43  2016\n",
       "2           3   1047  Christopher Capps 02:38:43  2016\n",
       "3           4   1052       Jason Grimes 02:45:06  2016\n",
       "4           5   1046        David Adams 02:47:28  2016\n",
       "...       ...    ...                ...      ...   ...\n",
       "2947     2957    435           Jane Tao 06:51:54  2016\n",
       "2948     2958  27210       Kate Mishkin 06:53:03  2016\n",
       "2949     2959  27443   Gabrielle Castro 06:53:35  2016\n",
       "2950     2960  13085     Valerie Bailey 06:53:58  2016\n",
       "2951     2961    442       Mike Emerick 07:00:00  2016\n",
       "\n",
       "[2952 rows x 5 columns]"
      ]
     },
     "execution_count": 14,
     "metadata": {},
     "output_type": "execute_result"
    }
   ],
   "source": [
    "full_2016_clean"
   ]
  },
  {
   "cell_type": "markdown",
   "metadata": {},
   "source": [
    "It's interesting that in 2016 there were almost 1,000 runners who did not finish the full marathon."
   ]
  },
  {
   "cell_type": "markdown",
   "metadata": {},
   "source": [
    "Concatening the cleaned-up full marathon DataFrames."
   ]
  },
  {
   "cell_type": "code",
   "execution_count": 15,
   "metadata": {},
   "outputs": [],
   "source": [
    "full = [full_2016_clean, full_2017_clean, full_2018_clean, full_2019_clean]\n",
    "full_marathons = pd.concat(full, ignore_index = True)"
   ]
  },
  {
   "cell_type": "code",
   "execution_count": 16,
   "metadata": {},
   "outputs": [
    {
     "data": {
      "text/html": [
       "<div>\n",
       "<style scoped>\n",
       "    .dataframe tbody tr th:only-of-type {\n",
       "        vertical-align: middle;\n",
       "    }\n",
       "\n",
       "    .dataframe tbody tr th {\n",
       "        vertical-align: top;\n",
       "    }\n",
       "\n",
       "    .dataframe thead th {\n",
       "        text-align: right;\n",
       "    }\n",
       "</style>\n",
       "<table border=\"1\" class=\"dataframe\">\n",
       "  <thead>\n",
       "    <tr style=\"text-align: right;\">\n",
       "      <th></th>\n",
       "      <th>Overall</th>\n",
       "      <th>Bib</th>\n",
       "      <th>Name</th>\n",
       "      <th>Time</th>\n",
       "      <th>Year</th>\n",
       "    </tr>\n",
       "  </thead>\n",
       "  <tbody>\n",
       "    <tr>\n",
       "      <th>0</th>\n",
       "      <td>1</td>\n",
       "      <td>1</td>\n",
       "      <td>Scott Wietecha</td>\n",
       "      <td>02:25:42</td>\n",
       "      <td>2016</td>\n",
       "    </tr>\n",
       "    <tr>\n",
       "      <th>1</th>\n",
       "      <td>2</td>\n",
       "      <td>3</td>\n",
       "      <td>Brian Shelton</td>\n",
       "      <td>02:34:43</td>\n",
       "      <td>2016</td>\n",
       "    </tr>\n",
       "    <tr>\n",
       "      <th>2</th>\n",
       "      <td>3</td>\n",
       "      <td>1047</td>\n",
       "      <td>Christopher Capps</td>\n",
       "      <td>02:38:43</td>\n",
       "      <td>2016</td>\n",
       "    </tr>\n",
       "    <tr>\n",
       "      <th>3</th>\n",
       "      <td>4</td>\n",
       "      <td>1052</td>\n",
       "      <td>Jason Grimes</td>\n",
       "      <td>02:45:06</td>\n",
       "      <td>2016</td>\n",
       "    </tr>\n",
       "    <tr>\n",
       "      <th>4</th>\n",
       "      <td>5</td>\n",
       "      <td>1046</td>\n",
       "      <td>David Adams</td>\n",
       "      <td>02:47:28</td>\n",
       "      <td>2016</td>\n",
       "    </tr>\n",
       "    <tr>\n",
       "      <th>...</th>\n",
       "      <td>...</td>\n",
       "      <td>...</td>\n",
       "      <td>...</td>\n",
       "      <td>...</td>\n",
       "      <td>...</td>\n",
       "    </tr>\n",
       "    <tr>\n",
       "      <th>9545</th>\n",
       "      <td>2021</td>\n",
       "      <td>32032</td>\n",
       "      <td>Casey Thomaston</td>\n",
       "      <td>06:29:57</td>\n",
       "      <td>2019</td>\n",
       "    </tr>\n",
       "    <tr>\n",
       "      <th>9546</th>\n",
       "      <td>2022</td>\n",
       "      <td>33147</td>\n",
       "      <td>Deanna Alexander</td>\n",
       "      <td>06:30:17</td>\n",
       "      <td>2019</td>\n",
       "    </tr>\n",
       "    <tr>\n",
       "      <th>9547</th>\n",
       "      <td>2023</td>\n",
       "      <td>32980</td>\n",
       "      <td>Daniel Albert</td>\n",
       "      <td>06:35:52</td>\n",
       "      <td>2019</td>\n",
       "    </tr>\n",
       "    <tr>\n",
       "      <th>9548</th>\n",
       "      <td>2024</td>\n",
       "      <td>30113</td>\n",
       "      <td>Jacqueline Spires</td>\n",
       "      <td>06:36:58</td>\n",
       "      <td>2019</td>\n",
       "    </tr>\n",
       "    <tr>\n",
       "      <th>9549</th>\n",
       "      <td>2025</td>\n",
       "      <td>30026</td>\n",
       "      <td>Alex Easley</td>\n",
       "      <td>06:43:55</td>\n",
       "      <td>2019</td>\n",
       "    </tr>\n",
       "  </tbody>\n",
       "</table>\n",
       "<p>9550 rows × 5 columns</p>\n",
       "</div>"
      ],
      "text/plain": [
       "      Overall    Bib               Name     Time  Year\n",
       "0           1      1     Scott Wietecha 02:25:42  2016\n",
       "1           2      3      Brian Shelton 02:34:43  2016\n",
       "2           3   1047  Christopher Capps 02:38:43  2016\n",
       "3           4   1052       Jason Grimes 02:45:06  2016\n",
       "4           5   1046        David Adams 02:47:28  2016\n",
       "...       ...    ...                ...      ...   ...\n",
       "9545     2021  32032    Casey Thomaston 06:29:57  2019\n",
       "9546     2022  33147   Deanna Alexander 06:30:17  2019\n",
       "9547     2023  32980      Daniel Albert 06:35:52  2019\n",
       "9548     2024  30113  Jacqueline Spires 06:36:58  2019\n",
       "9549     2025  30026        Alex Easley 06:43:55  2019\n",
       "\n",
       "[9550 rows x 5 columns]"
      ]
     },
     "execution_count": 16,
     "metadata": {},
     "output_type": "execute_result"
    }
   ],
   "source": [
    "full_marathons"
   ]
  },
  {
   "cell_type": "markdown",
   "metadata": {},
   "source": [
    "Plotting a single marathon to show run time vs overall place."
   ]
  },
  {
   "cell_type": "code",
   "execution_count": 17,
   "metadata": {},
   "outputs": [
    {
     "data": {
      "image/png": "[encoded data removed]",
      "text/plain": [
       "<Figure size 1080x432 with 1 Axes>"
      ]
     },
     "metadata": {
      "needs_background": "light"
     },
     "output_type": "display_data"
    }
   ],
   "source": [
    "fig, ax = plt.subplots(figsize = (15,6))\n",
    "ax.plot(full_2016_clean['Time'], full_2016_clean['Overall'])\n",
    "ax.set_xlabel('Run Time (Hours)')\n",
    "ax.set_ylabel('Overall Place')\n",
    "ax.set_xticklabels(['0', '2:47:00', '3:28:00', '4:52:00', '5:33:00', '6:15:00', '6:56:00', '8:20:00']);"
   ]
  },
  {
   "cell_type": "markdown",
   "metadata": {},
   "source": [
    "Plotting all full marathon data to show run time vs overall place."
   ]
  },
  {
   "cell_type": "code",
   "execution_count": 18,
   "metadata": {},
   "outputs": [
    {
     "data": {
      "image/png": "[encoded data removed]",
      "text/plain": [
       "<Figure size 1080x432 with 1 Axes>"
      ]
     },
     "metadata": {
      "needs_background": "light"
     },
     "output_type": "display_data"
    }
   ],
   "source": [
    "full_marathons_sorted = full_marathons.sort_values('Time') # sorting full_marathons by the Time column.\n",
    "fig, ax = plt.subplots(figsize = (15,6))\n",
    "ax.plot(full_marathons_sorted['Time'], full_marathons_sorted['Overall'])\n",
    "ax.set_xlabel('Run Time (Hours)')\n",
    "ax.set_ylabel('Overall Place')\n",
    "ax.set_xticklabels(\n",
    "    ['0', '1:22:00', '2:03:00', '2:47:00', '3:28:00', '4:52:00', '5:33:00', '6:15:00', '6:56:00', '8:20:00']\n",
    "); # had to relabel the xticks to convert from the original nanoseconds in scientific notation."
   ]
  },
  {
   "cell_type": "markdown",
   "metadata": {},
   "source": [
    "Changing plot to scatter plot to show times by year as well."
   ]
  },
  {
   "cell_type": "code",
   "execution_count": 19,
   "metadata": {},
   "outputs": [
    {
     "data": {
      "image/png": "[encoded data removed]",
      "text/plain": [
       "<Figure size 1080x432 with 1 Axes>"
      ]
     },
     "metadata": {
      "needs_background": "light"
     },
     "output_type": "display_data"
    }
   ],
   "source": [
    "fig, ax = plt.subplots(figsize = (15,6))\n",
    "scatter = ax.scatter(full_marathons_sorted['Time']/ np.timedelta64(1,'s'), full_marathons_sorted['Overall'],\n",
    "          c = full_marathons_sorted['Year'])\n",
    "ax.set_xlabel('Run Time (Hours)')\n",
    "ax.set_ylabel('Overall Place')\n",
    "legend = ax.legend(*scatter.legend_elements(),\n",
    "                    loc=\"lower right\", title=\"Year\")\n",
    "ax.set_xticklabels(\n",
    "    ['0', '1:22:00', '2:03:00', '2:47:00', '3:28:00', '4:52:00', '5:33:00', '6:15:00', '6:56:00', '8:20:00']);"
   ]
  },
  {
   "cell_type": "markdown",
   "metadata": {},
   "source": [
    "The Rock 'n' Roll Marathon has a course time limit of 6 hours. The timer for the course time does not start until the last runner crosses the start line. The runners who finished after the 6 hour time limit started earlier in the start waves."
   ]
  },
  {
   "cell_type": "code",
   "execution_count": null,
   "metadata": {},
   "outputs": [],
   "source": []
  }
 ],
 "metadata": {
  "kernelspec": {
   "display_name": "Python 3",
   "language": "python",
   "name": "python3"
  },
  "language_info": {
   "codemirror_mode": {
    "name": "ipython",
    "version": 3
   },
   "file_extension": ".py",
   "mimetype": "text/x-python",
   "name": "python",
   "nbconvert_exporter": "python",
   "pygments_lexer": "ipython3",
   "version": "3.8.3"
  }
 },
 "nbformat": 4,
 "nbformat_minor": 4
}
